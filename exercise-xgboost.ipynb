{
 "cells": [
  {
   "cell_type": "markdown",
   "id": "386b852c",
   "metadata": {
    "papermill": {
     "duration": 0.006641,
     "end_time": "2023-04-30T04:41:04.334503",
     "exception": false,
     "start_time": "2023-04-30T04:41:04.327862",
     "status": "completed"
    },
    "tags": []
   },
   "source": [
    "**This notebook is an exercise in the [Intermediate Machine Learning](https://www.kaggle.com/learn/intermediate-machine-learning) course.  You can reference the tutorial at [this link](https://www.kaggle.com/alexisbcook/xgboost).**\n",
    "\n",
    "---\n"
   ]
  },
  {
   "cell_type": "markdown",
   "id": "abccda91",
   "metadata": {
    "papermill": {
     "duration": 0.005008,
     "end_time": "2023-04-30T04:41:04.345173",
     "exception": false,
     "start_time": "2023-04-30T04:41:04.340165",
     "status": "completed"
    },
    "tags": []
   },
   "source": [
    "In this exercise, you will use your new knowledge to train a model with **gradient boosting**.\n",
    "\n",
    "# Setup\n",
    "\n",
    "The questions below will give you feedback on your work. Run the following cell to set up the feedback system."
   ]
  },
  {
   "cell_type": "code",
   "execution_count": 1,
   "id": "114a0150",
   "metadata": {
    "execution": {
     "iopub.execute_input": "2023-04-30T04:41:04.357942Z",
     "iopub.status.busy": "2023-04-30T04:41:04.357520Z",
     "iopub.status.idle": "2023-04-30T04:41:07.012904Z",
     "shell.execute_reply": "2023-04-30T04:41:07.011811Z"
    },
    "papermill": {
     "duration": 2.665468,
     "end_time": "2023-04-30T04:41:07.016113",
     "exception": false,
     "start_time": "2023-04-30T04:41:04.350645",
     "status": "completed"
    },
    "tags": []
   },
   "outputs": [
    {
     "name": "stdout",
     "output_type": "stream",
     "text": [
      "Setup Complete\n"
     ]
    }
   ],
   "source": [
    "# Set up code checking\n",
    "import os\n",
    "if not os.path.exists(\"../input/train.csv\"):\n",
    "    os.symlink(\"../input/home-data-for-ml-course/train.csv\", \"../input/train.csv\")  \n",
    "    os.symlink(\"../input/home-data-for-ml-course/test.csv\", \"../input/test.csv\") \n",
    "from learntools.core import binder\n",
    "binder.bind(globals())\n",
    "from learntools.ml_intermediate.ex6 import *\n",
    "print(\"Setup Complete\")"
   ]
  },
  {
   "cell_type": "markdown",
   "id": "1560e84e",
   "metadata": {
    "papermill": {
     "duration": 0.005216,
     "end_time": "2023-04-30T04:41:07.026961",
     "exception": false,
     "start_time": "2023-04-30T04:41:07.021745",
     "status": "completed"
    },
    "tags": []
   },
   "source": [
    "You will work with the [Housing Prices Competition for Kaggle Learn Users](https://www.kaggle.com/c/home-data-for-ml-course) dataset from the previous exercise. \n",
    "\n",
    "![Ames Housing dataset image](https://storage.googleapis.com/kaggle-media/learn/images/lTJVG4e.png)\n",
    "\n",
    "Run the next code cell without changes to load the training and validation sets in `X_train`, `X_valid`, `y_train`, and `y_valid`.  The test set is loaded in `X_test`."
   ]
  },
  {
   "cell_type": "code",
   "execution_count": 2,
   "id": "2513908a",
   "metadata": {
    "execution": {
     "iopub.execute_input": "2023-04-30T04:41:07.040206Z",
     "iopub.status.busy": "2023-04-30T04:41:07.039742Z",
     "iopub.status.idle": "2023-04-30T04:41:07.231924Z",
     "shell.execute_reply": "2023-04-30T04:41:07.230463Z"
    },
    "papermill": {
     "duration": 0.20256,
     "end_time": "2023-04-30T04:41:07.234955",
     "exception": false,
     "start_time": "2023-04-30T04:41:07.032395",
     "status": "completed"
    },
    "tags": []
   },
   "outputs": [],
   "source": [
    "import pandas as pd\n",
    "from sklearn.model_selection import train_test_split\n",
    "\n",
    "# Read the data\n",
    "X = pd.read_csv('../input/train.csv', index_col='Id')\n",
    "X_test_full = pd.read_csv('../input/test.csv', index_col='Id')\n",
    "\n",
    "# Remove rows with missing target, separate target from predictors\n",
    "X.dropna(axis=0, subset=['SalePrice'], inplace=True)\n",
    "y = X.SalePrice              \n",
    "X.drop(['SalePrice'], axis=1, inplace=True)\n",
    "\n",
    "# Break off validation set from training data\n",
    "X_train_full, X_valid_full, y_train, y_valid = train_test_split(X, y, train_size=0.8, test_size=0.2,\n",
    "                                                                random_state=0)\n",
    "\n",
    "# \"Cardinality\" means the number of unique values in a column\n",
    "# Select categorical columns with relatively low cardinality (convenient but arbitrary)\n",
    "low_cardinality_cols = [cname for cname in X_train_full.columns if X_train_full[cname].nunique() < 10 and \n",
    "                        X_train_full[cname].dtype == \"object\"]\n",
    "\n",
    "# Select numeric columns\n",
    "numeric_cols = [cname for cname in X_train_full.columns if X_train_full[cname].dtype in ['int64', 'float64']]\n",
    "\n",
    "# Keep selected columns only\n",
    "my_cols = low_cardinality_cols + numeric_cols\n",
    "X_train = X_train_full[my_cols].copy()\n",
    "X_valid = X_valid_full[my_cols].copy()\n",
    "X_test = X_test_full[my_cols].copy()\n",
    "\n",
    "# One-hot encode the data (to shorten the code, we use pandas)\n",
    "X_train = pd.get_dummies(X_train)\n",
    "X_valid = pd.get_dummies(X_valid)\n",
    "X_test = pd.get_dummies(X_test)\n",
    "X_train, X_valid = X_train.align(X_valid, join='left', axis=1)\n",
    "X_train, X_test = X_train.align(X_test, join='left', axis=1)"
   ]
  },
  {
   "cell_type": "markdown",
   "id": "1467c67d",
   "metadata": {
    "papermill": {
     "duration": 0.005234,
     "end_time": "2023-04-30T04:41:07.246247",
     "exception": false,
     "start_time": "2023-04-30T04:41:07.241013",
     "status": "completed"
    },
    "tags": []
   },
   "source": [
    "# Step 1: Build model\n",
    "\n",
    "### Part A\n",
    "\n",
    "In this step, you'll build and train your first model with gradient boosting.\n",
    "\n",
    "- Begin by setting `my_model_1` to an XGBoost model.  Use the [XGBRegressor](https://xgboost.readthedocs.io/en/latest/python/python_api.html#xgboost.XGBRegressor) class, and set the random seed to 0 (`random_state=0`).  **Leave all other parameters as default.**\n",
    "- Then, fit the model to the training data in `X_train` and `y_train`."
   ]
  },
  {
   "cell_type": "code",
   "execution_count": 3,
   "id": "e453b79c",
   "metadata": {
    "execution": {
     "iopub.execute_input": "2023-04-30T04:41:07.259801Z",
     "iopub.status.busy": "2023-04-30T04:41:07.259347Z",
     "iopub.status.idle": "2023-04-30T04:41:08.261408Z",
     "shell.execute_reply": "2023-04-30T04:41:08.260226Z"
    },
    "papermill": {
     "duration": 1.011725,
     "end_time": "2023-04-30T04:41:08.264224",
     "exception": false,
     "start_time": "2023-04-30T04:41:07.252499",
     "status": "completed"
    },
    "tags": []
   },
   "outputs": [
    {
     "data": {
      "application/javascript": [
       "parent.postMessage({\"jupyterEvent\": \"custom.exercise_interaction\", \"data\": {\"outcomeType\": 1, \"valueTowardsCompletion\": 0.5, \"interactionType\": 1, \"questionType\": 2, \"questionId\": \"1.1_Model1A\", \"learnToolsVersion\": \"0.3.4\", \"failureMessage\": \"\", \"exceptionClass\": \"\", \"trace\": \"\"}}, \"*\")"
      ],
      "text/plain": [
       "<IPython.core.display.Javascript object>"
      ]
     },
     "metadata": {},
     "output_type": "display_data"
    },
    {
     "data": {
      "text/markdown": [
       "<span style=\"color:#33cc33\">Correct</span>"
      ],
      "text/plain": [
       "Correct"
      ]
     },
     "metadata": {},
     "output_type": "display_data"
    }
   ],
   "source": [
    "from xgboost import XGBRegressor\n",
    "\n",
    "# Define the model\n",
    "my_model_1 = XGBRegressor()\n",
    "\n",
    "# Fit the model\n",
    "my_model_1.fit(X_train,y_train)\n",
    "\n",
    "# Check your answer\n",
    "step_1.a.check()"
   ]
  },
  {
   "cell_type": "code",
   "execution_count": 4,
   "id": "c5286300",
   "metadata": {
    "execution": {
     "iopub.execute_input": "2023-04-30T04:41:08.278042Z",
     "iopub.status.busy": "2023-04-30T04:41:08.277638Z",
     "iopub.status.idle": "2023-04-30T04:41:08.281686Z",
     "shell.execute_reply": "2023-04-30T04:41:08.280705Z"
    },
    "papermill": {
     "duration": 0.013879,
     "end_time": "2023-04-30T04:41:08.283996",
     "exception": false,
     "start_time": "2023-04-30T04:41:08.270117",
     "status": "completed"
    },
    "tags": []
   },
   "outputs": [],
   "source": [
    "# Lines below will give you a hint or solution code\n",
    "#step_1.a.hint()\n",
    "#step_1.a.solution()"
   ]
  },
  {
   "cell_type": "markdown",
   "id": "0a54b557",
   "metadata": {
    "papermill": {
     "duration": 0.00542,
     "end_time": "2023-04-30T04:41:08.295147",
     "exception": false,
     "start_time": "2023-04-30T04:41:08.289727",
     "status": "completed"
    },
    "tags": []
   },
   "source": [
    "### Part B\n",
    "\n",
    "Set `predictions_1` to the model's predictions for the validation data.  Recall that the validation features are stored in `X_valid`."
   ]
  },
  {
   "cell_type": "code",
   "execution_count": 5,
   "id": "611081e4",
   "metadata": {
    "execution": {
     "iopub.execute_input": "2023-04-30T04:41:08.308430Z",
     "iopub.status.busy": "2023-04-30T04:41:08.307971Z",
     "iopub.status.idle": "2023-04-30T04:41:08.337242Z",
     "shell.execute_reply": "2023-04-30T04:41:08.336093Z"
    },
    "papermill": {
     "duration": 0.039714,
     "end_time": "2023-04-30T04:41:08.340443",
     "exception": false,
     "start_time": "2023-04-30T04:41:08.300729",
     "status": "completed"
    },
    "tags": []
   },
   "outputs": [
    {
     "data": {
      "application/javascript": [
       "parent.postMessage({\"jupyterEvent\": \"custom.exercise_interaction\", \"data\": {\"outcomeType\": 1, \"valueTowardsCompletion\": 0.5, \"interactionType\": 1, \"questionType\": 2, \"questionId\": \"1.2_Model1B\", \"learnToolsVersion\": \"0.3.4\", \"failureMessage\": \"\", \"exceptionClass\": \"\", \"trace\": \"\"}}, \"*\")"
      ],
      "text/plain": [
       "<IPython.core.display.Javascript object>"
      ]
     },
     "metadata": {},
     "output_type": "display_data"
    },
    {
     "data": {
      "text/markdown": [
       "<span style=\"color:#33cc33\">Correct</span>"
      ],
      "text/plain": [
       "Correct"
      ]
     },
     "metadata": {},
     "output_type": "display_data"
    }
   ],
   "source": [
    "from sklearn.metrics import mean_absolute_error\n",
    "\n",
    "# Get predictions\n",
    "predictions_1 = my_model_1.predict(X_valid)\n",
    "\n",
    "# Check your answer\n",
    "step_1.b.check()"
   ]
  },
  {
   "cell_type": "code",
   "execution_count": 6,
   "id": "d706f956",
   "metadata": {
    "execution": {
     "iopub.execute_input": "2023-04-30T04:41:08.354616Z",
     "iopub.status.busy": "2023-04-30T04:41:08.354164Z",
     "iopub.status.idle": "2023-04-30T04:41:08.359562Z",
     "shell.execute_reply": "2023-04-30T04:41:08.358247Z"
    },
    "papermill": {
     "duration": 0.015044,
     "end_time": "2023-04-30T04:41:08.361991",
     "exception": false,
     "start_time": "2023-04-30T04:41:08.346947",
     "status": "completed"
    },
    "tags": []
   },
   "outputs": [],
   "source": [
    "# Lines below will give you a hint or solution code\n",
    "#step_1.b.hint()\n",
    "#step_1.b.solution()"
   ]
  },
  {
   "cell_type": "markdown",
   "id": "12c3f752",
   "metadata": {
    "papermill": {
     "duration": 0.005779,
     "end_time": "2023-04-30T04:41:08.373703",
     "exception": false,
     "start_time": "2023-04-30T04:41:08.367924",
     "status": "completed"
    },
    "tags": []
   },
   "source": [
    "### Part C\n",
    "\n",
    "Finally, use the `mean_absolute_error()` function to calculate the mean absolute error (MAE) corresponding to the predictions for the validation set.  Recall that the labels for the validation data are stored in `y_valid`."
   ]
  },
  {
   "cell_type": "code",
   "execution_count": 7,
   "id": "f5f601c0",
   "metadata": {
    "execution": {
     "iopub.execute_input": "2023-04-30T04:41:08.389106Z",
     "iopub.status.busy": "2023-04-30T04:41:08.388228Z",
     "iopub.status.idle": "2023-04-30T04:41:08.400536Z",
     "shell.execute_reply": "2023-04-30T04:41:08.399273Z"
    },
    "papermill": {
     "duration": 0.022324,
     "end_time": "2023-04-30T04:41:08.403040",
     "exception": false,
     "start_time": "2023-04-30T04:41:08.380716",
     "status": "completed"
    },
    "tags": []
   },
   "outputs": [
    {
     "name": "stdout",
     "output_type": "stream",
     "text": [
      "Mean Absolute Error: 17662.736729452055\n"
     ]
    },
    {
     "data": {
      "application/javascript": [
       "parent.postMessage({\"jupyterEvent\": \"custom.exercise_interaction\", \"data\": {\"outcomeType\": 1, \"valueTowardsCompletion\": 0.5, \"interactionType\": 1, \"questionType\": 2, \"questionId\": \"1.3_Model1C\", \"learnToolsVersion\": \"0.3.4\", \"failureMessage\": \"\", \"exceptionClass\": \"\", \"trace\": \"\"}}, \"*\")"
      ],
      "text/plain": [
       "<IPython.core.display.Javascript object>"
      ]
     },
     "metadata": {},
     "output_type": "display_data"
    },
    {
     "data": {
      "text/markdown": [
       "<span style=\"color:#33cc33\">Correct</span>"
      ],
      "text/plain": [
       "Correct"
      ]
     },
     "metadata": {},
     "output_type": "display_data"
    }
   ],
   "source": [
    "# Calculate MAE\n",
    "mae_1 = mean_absolute_error(predictions_1, y_valid)\n",
    "\n",
    "# Uncomment to print MAE\n",
    "print(\"Mean Absolute Error:\" , mae_1)\n",
    "\n",
    "# Check your answer\n",
    "step_1.c.check()"
   ]
  },
  {
   "cell_type": "code",
   "execution_count": 8,
   "id": "9264c64a",
   "metadata": {
    "execution": {
     "iopub.execute_input": "2023-04-30T04:41:08.417409Z",
     "iopub.status.busy": "2023-04-30T04:41:08.416976Z",
     "iopub.status.idle": "2023-04-30T04:41:08.422193Z",
     "shell.execute_reply": "2023-04-30T04:41:08.420985Z"
    },
    "papermill": {
     "duration": 0.015526,
     "end_time": "2023-04-30T04:41:08.424786",
     "exception": false,
     "start_time": "2023-04-30T04:41:08.409260",
     "status": "completed"
    },
    "tags": []
   },
   "outputs": [],
   "source": [
    "# Lines below will give you a hint or solution code\n",
    "#step_1.c.hint()\n",
    "#step_1.c.solution()"
   ]
  },
  {
   "cell_type": "markdown",
   "id": "3e7aed66",
   "metadata": {
    "papermill": {
     "duration": 0.006255,
     "end_time": "2023-04-30T04:41:08.437262",
     "exception": false,
     "start_time": "2023-04-30T04:41:08.431007",
     "status": "completed"
    },
    "tags": []
   },
   "source": [
    "# Step 2: Improve the model\n",
    "\n",
    "Now that you've trained a default model as baseline, it's time to tinker with the parameters, to see if you can get better performance!\n",
    "- Begin by setting `my_model_2` to an XGBoost model, using the [XGBRegressor](https://xgboost.readthedocs.io/en/latest/python/python_api.html#xgboost.XGBRegressor) class.  Use what you learned in the previous tutorial to figure out how to change the default parameters (like `n_estimators` and `learning_rate`) to get better results.\n",
    "- Then, fit the model to the training data in `X_train` and `y_train`.\n",
    "- Set `predictions_2` to the model's predictions for the validation data.  Recall that the validation features are stored in `X_valid`.\n",
    "- Finally, use the `mean_absolute_error()` function to calculate the mean absolute error (MAE) corresponding to the predictions on the validation set.  Recall that the labels for the validation data are stored in `y_valid`.\n",
    "\n",
    "In order for this step to be marked correct, your model in `my_model_2` must attain lower MAE than the model in `my_model_1`. "
   ]
  },
  {
   "cell_type": "code",
   "execution_count": 9,
   "id": "fc653fc8",
   "metadata": {
    "execution": {
     "iopub.execute_input": "2023-04-30T04:41:08.451687Z",
     "iopub.status.busy": "2023-04-30T04:41:08.451231Z",
     "iopub.status.idle": "2023-04-30T04:41:13.191335Z",
     "shell.execute_reply": "2023-04-30T04:41:13.190259Z"
    },
    "papermill": {
     "duration": 4.750588,
     "end_time": "2023-04-30T04:41:13.193946",
     "exception": false,
     "start_time": "2023-04-30T04:41:08.443358",
     "status": "completed"
    },
    "tags": []
   },
   "outputs": [
    {
     "data": {
      "application/javascript": [
       "parent.postMessage({\"jupyterEvent\": \"custom.exercise_interaction\", \"data\": {\"outcomeType\": 1, \"valueTowardsCompletion\": 0.5, \"interactionType\": 1, \"questionType\": 2, \"questionId\": \"2_Model2\", \"learnToolsVersion\": \"0.3.4\", \"failureMessage\": \"\", \"exceptionClass\": \"\", \"trace\": \"\"}}, \"*\")"
      ],
      "text/plain": [
       "<IPython.core.display.Javascript object>"
      ]
     },
     "metadata": {},
     "output_type": "display_data"
    },
    {
     "data": {
      "text/markdown": [
       "<span style=\"color:#33cc33\">Correct</span>"
      ],
      "text/plain": [
       "Correct"
      ]
     },
     "metadata": {},
     "output_type": "display_data"
    }
   ],
   "source": [
    "# Define the model\n",
    "my_model_2 = XGBRegressor(n_estimators=500,learning_rate=0.05)\n",
    "\n",
    "\n",
    "# Fit the model\n",
    "my_model_2.fit(X_train,y_train)\n",
    "\n",
    "# Get predictions\n",
    "predictions_2 = my_model_2.predict(X_valid)\n",
    "\n",
    "# Calculate MAE\n",
    "mae_2 = mean_absolute_error(predictions_2, y_valid)\n",
    "\n",
    "# Uncomment to print MAE\n",
    "# print(\"Mean Absolute Error:\" , mae_2)\n",
    "\n",
    "# Check your answer\n",
    "step_2.check()"
   ]
  },
  {
   "cell_type": "code",
   "execution_count": 10,
   "id": "de154df4",
   "metadata": {
    "execution": {
     "iopub.execute_input": "2023-04-30T04:41:13.210168Z",
     "iopub.status.busy": "2023-04-30T04:41:13.209726Z",
     "iopub.status.idle": "2023-04-30T04:41:13.215488Z",
     "shell.execute_reply": "2023-04-30T04:41:13.213869Z"
    },
    "papermill": {
     "duration": 0.016566,
     "end_time": "2023-04-30T04:41:13.218254",
     "exception": false,
     "start_time": "2023-04-30T04:41:13.201688",
     "status": "completed"
    },
    "tags": []
   },
   "outputs": [],
   "source": [
    "# Lines below will give you a hint or solution code\n",
    "#step_2.hint()\n",
    "#step_2.solution()"
   ]
  },
  {
   "cell_type": "markdown",
   "id": "99e84b21",
   "metadata": {
    "papermill": {
     "duration": 0.006122,
     "end_time": "2023-04-30T04:41:13.231184",
     "exception": false,
     "start_time": "2023-04-30T04:41:13.225062",
     "status": "completed"
    },
    "tags": []
   },
   "source": [
    "# Step 3: Break the model\n",
    "\n",
    "In this step, you will create a model that performs worse than the original model in Step 1.  This will help you to develop your intuition for how to set parameters.  You might even find that you accidentally get better performance, which is ultimately a nice problem to have and a valuable learning experience!\n",
    "- Begin by setting `my_model_3` to an XGBoost model, using the [XGBRegressor](https://xgboost.readthedocs.io/en/latest/python/python_api.html#xgboost.XGBRegressor) class.  Use what you learned in the previous tutorial to figure out how to change the default parameters (like `n_estimators` and `learning_rate`) to design a model to get high MAE.\n",
    "- Then, fit the model to the training data in `X_train` and `y_train`.\n",
    "- Set `predictions_3` to the model's predictions for the validation data.  Recall that the validation features are stored in `X_valid`.\n",
    "- Finally, use the `mean_absolute_error()` function to calculate the mean absolute error (MAE) corresponding to the predictions on the validation set.  Recall that the labels for the validation data are stored in `y_valid`.\n",
    "\n",
    "In order for this step to be marked correct, your model in `my_model_3` must attain higher MAE than the model in `my_model_1`. "
   ]
  },
  {
   "cell_type": "code",
   "execution_count": 11,
   "id": "7fcd9138",
   "metadata": {
    "execution": {
     "iopub.execute_input": "2023-04-30T04:41:13.247355Z",
     "iopub.status.busy": "2023-04-30T04:41:13.246051Z",
     "iopub.status.idle": "2023-04-30T04:41:13.311554Z",
     "shell.execute_reply": "2023-04-30T04:41:13.310406Z"
    },
    "papermill": {
     "duration": 0.076626,
     "end_time": "2023-04-30T04:41:13.314344",
     "exception": false,
     "start_time": "2023-04-30T04:41:13.237718",
     "status": "completed"
    },
    "tags": []
   },
   "outputs": [
    {
     "name": "stdout",
     "output_type": "stream",
     "text": [
      "Mean Absolute Error: 127895.0828807256\n"
     ]
    },
    {
     "data": {
      "application/javascript": [
       "parent.postMessage({\"jupyterEvent\": \"custom.exercise_interaction\", \"data\": {\"outcomeType\": 1, \"valueTowardsCompletion\": 0.5, \"interactionType\": 1, \"questionType\": 2, \"questionId\": \"3_Model3\", \"learnToolsVersion\": \"0.3.4\", \"failureMessage\": \"\", \"exceptionClass\": \"\", \"trace\": \"\"}}, \"*\")"
      ],
      "text/plain": [
       "<IPython.core.display.Javascript object>"
      ]
     },
     "metadata": {},
     "output_type": "display_data"
    },
    {
     "data": {
      "text/markdown": [
       "<span style=\"color:#33cc33\">Correct</span>"
      ],
      "text/plain": [
       "Correct"
      ]
     },
     "metadata": {},
     "output_type": "display_data"
    }
   ],
   "source": [
    "# Define the model\n",
    "my_model_3 = XGBRegressor(n_estimators=1)\n",
    "\n",
    "\n",
    "# Fit the model\n",
    "my_model_3.fit(X_train, y_train)\n",
    "\n",
    "\n",
    "# Get predictions\n",
    "predictions_3 = my_model_3.predict(X_valid)\n",
    "\n",
    "\n",
    "# Calculate MAE\n",
    "mae_3 = mean_absolute_error(predictions_3, y_valid)\n",
    "\n",
    "# Uncomment to print MAE\n",
    "print(\"Mean Absolute Error:\" , mae_3)\n",
    "\n",
    "# Check your answer\n",
    "step_3.check()"
   ]
  },
  {
   "cell_type": "code",
   "execution_count": 12,
   "id": "5f2b4058",
   "metadata": {
    "execution": {
     "iopub.execute_input": "2023-04-30T04:41:13.331393Z",
     "iopub.status.busy": "2023-04-30T04:41:13.330370Z",
     "iopub.status.idle": "2023-04-30T04:41:13.335493Z",
     "shell.execute_reply": "2023-04-30T04:41:13.334298Z"
    },
    "papermill": {
     "duration": 0.016122,
     "end_time": "2023-04-30T04:41:13.338031",
     "exception": false,
     "start_time": "2023-04-30T04:41:13.321909",
     "status": "completed"
    },
    "tags": []
   },
   "outputs": [],
   "source": [
    "# Lines below will give you a hint or solution code\n",
    "#step_3.hint()\n",
    "#step_3.solution()"
   ]
  },
  {
   "cell_type": "markdown",
   "id": "66ea9488",
   "metadata": {
    "papermill": {
     "duration": 0.006336,
     "end_time": "2023-04-30T04:41:13.351234",
     "exception": false,
     "start_time": "2023-04-30T04:41:13.344898",
     "status": "completed"
    },
    "tags": []
   },
   "source": [
    "# Keep going\n",
    "\n",
    "Continue to learn about **[data leakage](https://www.kaggle.com/alexisbcook/data-leakage)**.  This is an important issue for a data scientist to understand, and it has the potential to ruin your models in subtle and dangerous ways!"
   ]
  },
  {
   "cell_type": "markdown",
   "id": "2e10dac3",
   "metadata": {
    "papermill": {
     "duration": 0.006261,
     "end_time": "2023-04-30T04:41:13.364162",
     "exception": false,
     "start_time": "2023-04-30T04:41:13.357901",
     "status": "completed"
    },
    "tags": []
   },
   "source": [
    "---\n",
    "\n",
    "\n",
    "\n",
    "\n",
    "*Have questions or comments? Visit the [course discussion forum](https://www.kaggle.com/learn/intermediate-machine-learning/discussion) to chat with other learners.*"
   ]
  }
 ],
 "metadata": {
  "kernelspec": {
   "display_name": "Python 3",
   "language": "python",
   "name": "python3"
  },
  "language_info": {
   "codemirror_mode": {
    "name": "ipython",
    "version": 3
   },
   "file_extension": ".py",
   "mimetype": "text/x-python",
   "name": "python",
   "nbconvert_exporter": "python",
   "pygments_lexer": "ipython3",
   "version": "3.7.12"
  },
  "papermill": {
   "default_parameters": {},
   "duration": 22.847111,
   "end_time": "2023-04-30T04:41:14.196131",
   "environment_variables": {},
   "exception": null,
   "input_path": "__notebook__.ipynb",
   "output_path": "__notebook__.ipynb",
   "parameters": {},
   "start_time": "2023-04-30T04:40:51.349020",
   "version": "2.4.0"
  }
 },
 "nbformat": 4,
 "nbformat_minor": 5
}
